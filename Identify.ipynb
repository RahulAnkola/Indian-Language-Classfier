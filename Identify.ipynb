{
 "cells": [
  {
   "cell_type": "code",
   "execution_count": 1,
   "metadata": {},
   "outputs": [],
   "source": [
    "import warnings\n",
    "warnings.filterwarnings(\"ignore\")\n",
    "import pandas as pd\n"
   ]
  },
  {
   "cell_type": "code",
   "execution_count": 2,
   "metadata": {},
   "outputs": [
    {
     "data": {
      "text/html": [
       "<div>\n",
       "<style scoped>\n",
       "    .dataframe tbody tr th:only-of-type {\n",
       "        vertical-align: middle;\n",
       "    }\n",
       "\n",
       "    .dataframe tbody tr th {\n",
       "        vertical-align: top;\n",
       "    }\n",
       "\n",
       "    .dataframe thead th {\n",
       "        text-align: right;\n",
       "    }\n",
       "</style>\n",
       "<table border=\"1\" class=\"dataframe\">\n",
       "  <thead>\n",
       "    <tr style=\"text-align: right;\">\n",
       "      <th></th>\n",
       "      <th>Text</th>\n",
       "      <th>language</th>\n",
       "    </tr>\n",
       "  </thead>\n",
       "  <tbody>\n",
       "    <tr>\n",
       "      <th>0</th>\n",
       "      <td>我們試試看！</td>\n",
       "      <td>cmn</td>\n",
       "    </tr>\n",
       "    <tr>\n",
       "      <th>1</th>\n",
       "      <td>我该去睡觉了。</td>\n",
       "      <td>cmn</td>\n",
       "    </tr>\n",
       "    <tr>\n",
       "      <th>2</th>\n",
       "      <td>你在干什麼啊？</td>\n",
       "      <td>cmn</td>\n",
       "    </tr>\n",
       "    <tr>\n",
       "      <th>3</th>\n",
       "      <td>這是什麼啊？</td>\n",
       "      <td>cmn</td>\n",
       "    </tr>\n",
       "    <tr>\n",
       "      <th>4</th>\n",
       "      <td>今天是６月１８号，也是Muiriel的生日！</td>\n",
       "      <td>cmn</td>\n",
       "    </tr>\n",
       "    <tr>\n",
       "      <th>...</th>\n",
       "      <td>...</td>\n",
       "      <td>...</td>\n",
       "    </tr>\n",
       "    <tr>\n",
       "      <th>11163388</th>\n",
       "      <td>Yesteqsa-yi-d uselmad amaynut amek isem-iw u n...</td>\n",
       "      <td>kab</td>\n",
       "    </tr>\n",
       "    <tr>\n",
       "      <th>11163389</th>\n",
       "      <td>On ne sait pas ce que demain nous apportera.</td>\n",
       "      <td>fra</td>\n",
       "    </tr>\n",
       "    <tr>\n",
       "      <th>11163390</th>\n",
       "      <td>Лейла была любящей матерью.</td>\n",
       "      <td>rus</td>\n",
       "    </tr>\n",
       "    <tr>\n",
       "      <th>11163391</th>\n",
       "      <td>「スミスさんをお願いしたいのですが」「少々お待ちください」</td>\n",
       "      <td>jpn</td>\n",
       "    </tr>\n",
       "    <tr>\n",
       "      <th>11163392</th>\n",
       "      <td>「907」って「キュウ・オー・セブン」って読むの？それとも「キュウヒャクナナ」？</td>\n",
       "      <td>jpn</td>\n",
       "    </tr>\n",
       "  </tbody>\n",
       "</table>\n",
       "<p>11163393 rows × 2 columns</p>\n",
       "</div>"
      ],
      "text/plain": [
       "                                                       Text language\n",
       "0                                                    我們試試看！      cmn\n",
       "1                                                   我该去睡觉了。      cmn\n",
       "2                                                   你在干什麼啊？      cmn\n",
       "3                                                    這是什麼啊？      cmn\n",
       "4                                    今天是６月１８号，也是Muiriel的生日！      cmn\n",
       "...                                                     ...      ...\n",
       "11163388  Yesteqsa-yi-d uselmad amaynut amek isem-iw u n...      kab\n",
       "11163389       On ne sait pas ce que demain nous apportera.      fra\n",
       "11163390                        Лейла была любящей матерью.      rus\n",
       "11163391                      「スミスさんをお願いしたいのですが」「少々お待ちください」      jpn\n",
       "11163392           「907」って「キュウ・オー・セブン」って読むの？それとも「キュウヒャクナナ」？      jpn\n",
       "\n",
       "[11163393 rows x 2 columns]"
      ]
     },
     "execution_count": 2,
     "metadata": {},
     "output_type": "execute_result"
    }
   ],
   "source": [
    "df=pd.read_csv('sentences.csv', delimiter='\\t', header=None, names=[\"1\",\"language\",\"Text\"] )\n",
    "del df[\"1\"]\n",
    "df = df[['Text', 'language']]\n",
    "df"
   ]
  },
  {
   "cell_type": "code",
   "execution_count": 3,
   "metadata": {},
   "outputs": [
    {
     "data": {
      "text/plain": [
       "array(['eng', 'urd', 'san', 'hin', 'ben', 'mal', 'mar', 'guj', 'pan',\n",
       "       'tam', 'kan', 'ori'], dtype=object)"
      ]
     },
     "execution_count": 3,
     "metadata": {},
     "output_type": "execute_result"
    }
   ],
   "source": [
    "att=['ben','eng','guj','hin','kan','mal','mar','nep','ori','pan','san','tam','urd']\n",
    "dataset= df.loc[df['language'].isin(att)]\n",
    "\n",
    "dataset = dataset.drop(dataset.query('language == \"eng\"').sample(frac=.99).index)\n",
    "dataset = dataset.drop(dataset.query('language == \"mar\"').sample(frac=.90).index)\n",
    "dataset = dataset.drop(dataset.query('language == \"hin\"').sample(frac=.90).index)\n",
    "\n",
    "dataset['language'].unique()\n"
   ]
  },
  {
   "cell_type": "code",
   "execution_count": 4,
   "metadata": {},
   "outputs": [],
   "source": [
    "from mpl_toolkits.mplot3d import Axes3D\n",
    "from sklearn.preprocessing import StandardScaler\n",
    "import matplotlib.pyplot as plt # plotting\n",
    "import numpy as np\n",
    "import seaborn as sns\n",
    "\n",
    "# Distribution graphs (histogram/bar graph) of column data\n",
    "def plotPerColumnDistribution(df, nGraphShown, nGraphPerRow):\n",
    "    nunique = df.nunique()\n",
    "    df = df[[col for col in df if nunique[col] > 1 and nunique[col] < 50]] # For displaying purposes, pick columns that have between 1 and 50 unique values\n",
    "    nRow, nCol = df.shape\n",
    "    columnNames = list(df)\n",
    "    nGraphRow = (nCol + nGraphPerRow - 1) / nGraphPerRow\n",
    "    plt.figure(num = None, figsize = (6 * nGraphPerRow, 8 * nGraphRow), dpi = 80, facecolor = 'w', edgecolor = 'k')\n",
    "    for i in range(min(nCol, nGraphShown)):\n",
    "        plt.subplot(nGraphRow, nGraphPerRow, i + 1)\n",
    "        columnDf = df.iloc[:, i]\n",
    "        if (not np.issubdtype(type(columnDf.iloc[0]), np.number)):\n",
    "            valueCounts = columnDf.value_counts()\n",
    "            valueCounts.plot.bar()\n",
    "        else:\n",
    "            columnDf.hist()\n",
    "        plt.ylabel('counts')\n",
    "        plt.xticks(rotation = 90)\n",
    "        plt.title(f'{columnNames[i]} (column {i})')\n",
    "    plt.tight_layout(pad = 1.0, w_pad = 1.0, h_pad = 1.0)\n",
    "    plt.show()\n"
   ]
  },
  {
   "cell_type": "code",
   "execution_count": 5,
   "metadata": {},
   "outputs": [
    {
     "data": {
      "image/png": "[encoded data removed]",
      "text/plain": [
       "<Figure size 2400x640 with 1 Axes>"
      ]
     },
     "metadata": {},
     "output_type": "display_data"
    }
   ],
   "source": [
    "plotPerColumnDistribution(dataset, 10, 5)\n"
   ]
  },
  {
   "cell_type": "code",
   "execution_count": 6,
   "metadata": {},
   "outputs": [
    {
     "name": "stdout",
     "output_type": "stream",
     "text": [
      "lenght of training data =  33899\n",
      "lenght of test data =  8475\n"
     ]
    }
   ],
   "source": [
    "from sklearn.model_selection         import train_test_split\n",
    "text = dataset.Text\n",
    "language = dataset.language\n",
    "train_features, test_features, train_labels, test_labels = train_test_split(text, language, test_size=0.20, random_state=5)\n",
    "\n",
    "print('lenght of training data = ',len(train_features))\n",
    "print('lenght of test data = ', len(test_features))\n"
   ]
  },
  {
   "cell_type": "code",
   "execution_count": 7,
   "metadata": {},
   "outputs": [],
   "source": [
    "from sklearn.feature_extraction.text import*\n",
    "from sklearn                         import preprocessing\n",
    "from sklearn.preprocessing           import LabelEncoder\n"
   ]
  },
  {
   "cell_type": "code",
   "execution_count": 8,
   "metadata": {},
   "outputs": [],
   "source": [
    "#uni gram\n",
    "uni_vector =   CountVectorizer( strip_accents='unicode', analyzer='word', token_pattern=r'\\w{1,}', \n",
    "                          stop_words=None, ngram_range=(1,1), max_features=1000)\n",
    "bag_of_words_uni = uni_vector.fit_transform(train_features)\n",
    "\n",
    "#bigram\n",
    "bi_vector =   CountVectorizer( strip_accents='unicode', analyzer='word', token_pattern=r'\\w{1,}', \n",
    "                          stop_words=None, ngram_range=(2,2), max_features=1000)\n",
    "bag_of_words_bi = bi_vector.fit_transform(train_features)\n",
    "\n",
    "#trigram\n",
    "tri_vector =   CountVectorizer( strip_accents='unicode', analyzer='word', token_pattern=r'\\w{1,}', \n",
    "                          stop_words=None, ngram_range=(3,3), max_features=1000)\n",
    "bag_of_words_tri = tri_vector.fit_transform(train_features)\n",
    "\n",
    "#3chargram\n",
    "char3_vector =   CountVectorizer( strip_accents='unicode', analyzer='char', token_pattern=r'\\w{1,}', \n",
    "                          stop_words=None, ngram_range=(3,3), max_features=1000)\n",
    "bag_of_words_char3 = char3_vector.fit_transform(train_features)\n",
    "\n",
    "#4chargram\n",
    "char4_vector =   CountVectorizer( strip_accents='unicode', analyzer='char', token_pattern=r'\\w{1,}', \n",
    "                          stop_words=None, ngram_range=(4,4), max_features=1000)\n",
    "bag_of_words_char4 = char4_vector.fit_transform(train_features)\n",
    "\n",
    "#5chargram\n",
    "char5_vector =   CountVectorizer( strip_accents='unicode', analyzer='char', token_pattern=r'\\w{1,}', \n",
    "                          stop_words=None, ngram_range=(5,5), max_features=1000)\n",
    "bag_of_words_char5 = char5_vector.fit_transform(train_features)\n",
    "\n",
    "#6chargram\n",
    "char6_vector =   CountVectorizer( strip_accents='unicode', analyzer='char', token_pattern=r'\\w{1,}', \n",
    "                          stop_words=None, ngram_range=(6,6), max_features=1000)\n",
    "bag_of_words_char6 = char6_vector.fit_transform(train_features)\n",
    "\n",
    "#7chargram\n",
    "char7_vector =   CountVectorizer( strip_accents='unicode', analyzer='char', token_pattern=r'\\w{1,}', \n",
    "                          stop_words=None, ngram_range=(7,7), max_features=1000)\n",
    "bag_of_words_char7 = char7_vector.fit_transform(train_features)\n",
    "\n",
    "#8chargram\n",
    "char8_vector =   CountVectorizer( strip_accents='unicode', analyzer='char', token_pattern=r'\\w{1,}', \n",
    "                          stop_words=None, ngram_range=(1,1), max_features=1000)\n",
    "bag_of_words_char8 = char8_vector.fit_transform(train_features)\n",
    "\n",
    "#9chargram\n",
    "char9_vector =   CountVectorizer( strip_accents='unicode', analyzer='char', token_pattern=r'\\w{1,}', \n",
    "                          stop_words=None, ngram_range=(9,9), max_features=1000)\n",
    "bag_of_words_char9 = char9_vector.fit_transform(train_features)\n",
    "\n",
    "#10chargram\n",
    "char10_vector =   CountVectorizer( strip_accents='unicode', analyzer='char', token_pattern=r'\\w{1,}', \n",
    "                          stop_words=None, ngram_range=(10,10), max_features=1000)\n",
    "bag_of_words_char10 = char10_vector.fit_transform(train_features)\n"
   ]
  },
  {
   "cell_type": "code",
   "execution_count": 9,
   "metadata": {},
   "outputs": [],
   "source": [
    "uni_feature_names = uni_vector.get_feature_names()\n",
    "bi_feature_names = bi_vector.get_feature_names()\n",
    "tri_feature_names = tri_vector.get_feature_names()\n",
    "char3_feature_names = char3_vector.get_feature_names()\n",
    "char4_feature_names = char4_vector.get_feature_names()\n",
    "char5_feature_names = char5_vector.get_feature_names()\n",
    "char6_feature_names = char6_vector.get_feature_names()\n",
    "char7_feature_names = char7_vector.get_feature_names()\n",
    "char8_feature_names = char8_vector.get_feature_names()\n",
    "char9_feature_names = char9_vector.get_feature_names()\n",
    "char10_feature_names = char10_vector.get_feature_names()\n"
   ]
  },
  {
   "cell_type": "code",
   "execution_count": 10,
   "metadata": {},
   "outputs": [],
   "source": [
    "uni_train_features=pd.DataFrame(bag_of_words_uni.toarray(), columns=uni_feature_names)\n",
    "bi_train_features=pd.DataFrame(bag_of_words_bi.toarray(), columns=bi_feature_names)\n",
    "tri_train_features=pd.DataFrame(bag_of_words_tri.toarray(), columns=tri_feature_names)\n",
    "char3_train_features=pd.DataFrame(bag_of_words_char3.toarray(), columns=char3_feature_names)\n",
    "char4_train_features=pd.DataFrame(bag_of_words_char4.toarray(), columns=char4_feature_names)\n",
    "char5_train_features=pd.DataFrame(bag_of_words_char5.toarray(), columns=char5_feature_names)\n",
    "char6_train_features=pd.DataFrame(bag_of_words_char6.toarray(), columns=char6_feature_names)\n",
    "char7_train_features=pd.DataFrame(bag_of_words_char7.toarray(), columns=char7_feature_names)\n",
    "char8_train_features=pd.DataFrame(bag_of_words_char8.toarray(), columns=char8_feature_names)\n",
    "char9_train_features=pd.DataFrame(bag_of_words_char9.toarray(), columns=char9_feature_names)\n",
    "char10_train_features=pd.DataFrame(bag_of_words_char10.toarray(), columns=char10_feature_names)\n"
   ]
  },
  {
   "cell_type": "code",
   "execution_count": 11,
   "metadata": {},
   "outputs": [],
   "source": [
    "from sklearn.ensemble                import RandomForestClassifier\n",
    "\n",
    "#apply RandomForestClassifier on train dataset\n",
    "rfc_uni = RandomForestClassifier()                      \n",
    "rfc_uni.fit(uni_train_features, train_labels);\n"
   ]
  },
  {
   "cell_type": "code",
   "execution_count": 12,
   "metadata": {},
   "outputs": [],
   "source": [
    "rfc_bi = RandomForestClassifier()                      \n",
    "rfc_bi.fit(bi_train_features, train_labels);\n"
   ]
  },
  {
   "cell_type": "code",
   "execution_count": 13,
   "metadata": {},
   "outputs": [],
   "source": [
    "rfc_tri = RandomForestClassifier()                      \n",
    "rfc_tri.fit(tri_train_features, train_labels);"
   ]
  },
  {
   "cell_type": "code",
   "execution_count": 14,
   "metadata": {},
   "outputs": [],
   "source": [
    "rfc_char3 = RandomForestClassifier()                      \n",
    "rfc_char3.fit(char3_train_features, train_labels);"
   ]
  },
  {
   "cell_type": "code",
   "execution_count": 15,
   "metadata": {},
   "outputs": [],
   "source": [
    "rfc_char4 = RandomForestClassifier()                      \n",
    "rfc_char4.fit(char4_train_features, train_labels);"
   ]
  },
  {
   "cell_type": "code",
   "execution_count": 16,
   "metadata": {},
   "outputs": [],
   "source": [
    "rfc_char5 = RandomForestClassifier()                      \n",
    "rfc_char5.fit(char5_train_features, train_labels);"
   ]
  },
  {
   "cell_type": "code",
   "execution_count": 17,
   "metadata": {},
   "outputs": [],
   "source": [
    "rfc_char6 = RandomForestClassifier()                      \n",
    "rfc_char6.fit(char6_train_features, train_labels);"
   ]
  },
  {
   "cell_type": "code",
   "execution_count": 18,
   "metadata": {},
   "outputs": [],
   "source": [
    "rfc_char7 = RandomForestClassifier()                      \n",
    "rfc_char7.fit(char7_train_features, train_labels);"
   ]
  },
  {
   "cell_type": "code",
   "execution_count": 19,
   "metadata": {},
   "outputs": [],
   "source": [
    "rfc_char8 = RandomForestClassifier()                      \n",
    "rfc_char8.fit(char8_train_features, train_labels);"
   ]
  },
  {
   "cell_type": "code",
   "execution_count": 20,
   "metadata": {},
   "outputs": [],
   "source": [
    "rfc_char9 = RandomForestClassifier()                      \n",
    "rfc_char9.fit(char9_train_features, train_labels);"
   ]
  },
  {
   "cell_type": "code",
   "execution_count": 21,
   "metadata": {},
   "outputs": [],
   "source": [
    "rfc_char10 = RandomForestClassifier()                      \n",
    "rfc_char10.fit(char10_train_features, train_labels);"
   ]
  },
  {
   "cell_type": "code",
   "execution_count": 22,
   "metadata": {},
   "outputs": [],
   "source": [
    "from sklearn.svm                     import LinearSVC\n",
    "#apply LinearSVC() on train dataset\n",
    "lsvc_uni = LinearSVC()                      \n",
    "lsvc_uni.fit(uni_train_features, train_labels);\n",
    "\n",
    "lsvc_bi = LinearSVC()                      \n",
    "lsvc_bi.fit(bi_train_features, train_labels);\n",
    "\n",
    "lsvc_tri = LinearSVC()                      \n",
    "lsvc_tri.fit(tri_train_features, train_labels);\n",
    "\n",
    "lsvc_char3 = LinearSVC()                     \n",
    "lsvc_char3.fit(char3_train_features, train_labels);\n",
    "\n",
    "lsvc_char4 = LinearSVC()                     \n",
    "lsvc_char4.fit(char4_train_features, train_labels);\n",
    "\n",
    "lsvc_char5 = LinearSVC()                     \n",
    "lsvc_char5.fit(char5_train_features, train_labels);\n",
    "\n",
    "lsvc_char6 = LinearSVC()                     \n",
    "lsvc_char6.fit(char6_train_features, train_labels);\n",
    "\n",
    "lsvc_char7 = LinearSVC()                     \n",
    "lsvc_char7.fit(char7_train_features, train_labels);\n",
    "\n",
    "lsvc_char8 = LinearSVC()                     \n",
    "lsvc_char8.fit(char8_train_features, train_labels);\n",
    "\n",
    "lsvc_char9 = LinearSVC()                     \n",
    "lsvc_char9.fit(char9_train_features, train_labels);\n",
    "\n",
    "lsvc_char10 = LinearSVC()                     \n",
    "lsvc_char10.fit(char10_train_features, train_labels);\n"
   ]
  },
  {
   "cell_type": "code",
   "execution_count": 23,
   "metadata": {},
   "outputs": [],
   "source": [
    "from sklearn.linear_model            import LogisticRegression\n",
    "#apply LogisticRegression() on train dataset\n",
    "lr_uni = LogisticRegression()                      \n",
    "lr_uni.fit(uni_train_features, train_labels);\n",
    "\n",
    "lr_bi = LogisticRegression()                      \n",
    "lr_bi.fit(bi_train_features, train_labels);\n",
    "\n",
    "lr_tri = LogisticRegression()                      \n",
    "lr_tri.fit(tri_train_features, train_labels);\n",
    "\n",
    "lr_char3 = LogisticRegression()                     \n",
    "lr_char3.fit(char3_train_features, train_labels);\n",
    "\n",
    "lr_char4 = LogisticRegression()                     \n",
    "lr_char4.fit(char4_train_features, train_labels);\n",
    "\n",
    "lr_char5 = LogisticRegression()                     \n",
    "lr_char5.fit(char5_train_features, train_labels);\n",
    "\n",
    "lr_char6 = LogisticRegression()                     \n",
    "lr_char6.fit(char6_train_features, train_labels);\n",
    "\n",
    "lr_char7 = LogisticRegression()                     \n",
    "lr_char7.fit(char7_train_features, train_labels);\n",
    "\n",
    "lr_char8 = LogisticRegression()                     \n",
    "lr_char8.fit(char8_train_features, train_labels);\n",
    "\n",
    "lr_char9 = LogisticRegression()                     \n",
    "lr_char9.fit(char9_train_features, train_labels);\n",
    "\n",
    "lr_char10 = LogisticRegression()                     \n",
    "lr_char10.fit(char10_train_features, train_labels);\n"
   ]
  },
  {
   "cell_type": "code",
   "execution_count": 24,
   "metadata": {},
   "outputs": [],
   "source": [
    "#TESTING\n",
    "\n",
    "uni_test_features = uni_vector.transform(test_features)\n",
    "uni_test_features=pd.DataFrame(uni_test_features.toarray(), columns=uni_feature_names)\n",
    "\n",
    "bi_test_features = bi_vector.transform(test_features)\n",
    "bi_test_features=pd.DataFrame(bi_test_features.toarray(), columns=bi_feature_names)\n",
    "\n",
    "tri_test_features = tri_vector.transform(test_features)\n",
    "tri_test_features=pd.DataFrame(tri_test_features.toarray(), columns=tri_feature_names)\n",
    "\n",
    "char3_test_features = char3_vector.transform(test_features)\n",
    "char3_test_features=pd.DataFrame(char3_test_features.toarray(), columns=char3_feature_names)\n",
    "\n",
    "char4_test_features = char4_vector.transform(test_features)\n",
    "char4_test_features=pd.DataFrame(char4_test_features.toarray(), columns=char4_feature_names)\n",
    "\n",
    "char5_test_features = char5_vector.transform(test_features)\n",
    "char5_test_features=pd.DataFrame(char5_test_features.toarray(), columns=char5_feature_names)\n",
    "\n",
    "char6_test_features = char6_vector.transform(test_features)\n",
    "char6_test_features=pd.DataFrame(char6_test_features.toarray(), columns=char6_feature_names)\n",
    "\n",
    "char7_test_features = char7_vector.transform(test_features)\n",
    "char7_test_features=pd.DataFrame(char7_test_features.toarray(), columns=char7_feature_names)\n",
    "\n",
    "char8_test_features = char8_vector.transform(test_features)\n",
    "char8_test_features=pd.DataFrame(char8_test_features.toarray(), columns=char8_feature_names)\n",
    "\n",
    "char9_test_features = char9_vector.transform(test_features)\n",
    "char9_test_features=pd.DataFrame(char9_test_features.toarray(), columns=char9_feature_names)\n",
    "\n",
    "char10_test_features = char10_vector.transform(test_features)\n",
    "char10_test_features=pd.DataFrame(char10_test_features.toarray(), columns=char10_feature_names)\n",
    "\n"
   ]
  },
  {
   "cell_type": "code",
   "execution_count": 25,
   "metadata": {},
   "outputs": [],
   "source": [
    "#RANDOM FOREST CLASSIFIFIER\n",
    "from sklearn.metrics import accuracy_score\n",
    "\n",
    "predictions_uni_rfc = rfc_uni.predict(uni_test_features)         #prediction\n",
    "uni_rfc = accuracy_score(test_labels, predictions_uni_rfc)           #accuracy\n",
    "\n",
    "predictions_bi_rfc = rfc_bi.predict(bi_test_features)         #prediction\n",
    "bi_rfc = accuracy_score(test_labels, predictions_bi_rfc)           #accuracy\n",
    "\n",
    "predictions_tri_rfc = rfc_tri.predict(tri_test_features)         #prediction\n",
    "tri_rfc = accuracy_score(test_labels, predictions_tri_rfc)           #accuracy\n",
    "\n",
    "predictions_char3_rfc = rfc_char3.predict(char3_test_features)         #prediction\n",
    "char3_rfc = accuracy_score(test_labels, predictions_char3_rfc)           #accuracy\n",
    "\n",
    "predictions_char4_rfc = rfc_char4.predict(char4_test_features)         #prediction\n",
    "char4_rfc = accuracy_score(test_labels, predictions_char4_rfc)           #accuracy\n",
    "\n",
    "predictions_char5_rfc = rfc_char5.predict(char5_test_features)         #prediction\n",
    "char5_rfc = accuracy_score(test_labels, predictions_char5_rfc)           #accuracy\n",
    "\n",
    "predictions_char6_rfc = rfc_char6.predict(char6_test_features)         #prediction\n",
    "char6_rfc = accuracy_score(test_labels, predictions_char6_rfc)           #accuracy\n",
    "\n",
    "predictions_char7_rfc = rfc_char7.predict(char7_test_features)         #prediction\n",
    "char7_rfc = accuracy_score(test_labels, predictions_char7_rfc)           #accuracy\n",
    "\n",
    "predictions_char8_rfc = rfc_char8.predict(char8_test_features)         #prediction\n",
    "char8_rfc = accuracy_score(test_labels, predictions_char8_rfc)           #accuracy\n",
    "\n",
    "predictions_char9_rfc = rfc_char9.predict(char9_test_features)         #prediction\n",
    "char9_rfc = accuracy_score(test_labels, predictions_char9_rfc)           #accuracy\n",
    "\n",
    "predictions_char10_rfc = rfc_char10.predict(char10_test_features)         #prediction\n",
    "char10_rfc = accuracy_score(test_labels, predictions_char10_rfc)           #accuracy\n"
   ]
  },
  {
   "cell_type": "code",
   "execution_count": 26,
   "metadata": {},
   "outputs": [],
   "source": [
    "#LINEAR SVC\n",
    "\n",
    "predictions_uni_lsvc= lsvc_uni.predict(uni_test_features)         #prediction\n",
    "uni_lsvc = accuracy_score(test_labels, predictions_uni_lsvc)           #accuracy\n",
    "\n",
    "predictions_bi_lsvc = lsvc_bi.predict(bi_test_features)         #prediction\n",
    "bi_lsvc = accuracy_score(test_labels, predictions_bi_lsvc)           #accuracy\n",
    "\n",
    "predictions_tri_lsvc = lsvc_tri.predict(tri_test_features)         #prediction\n",
    "tri_lsvc = accuracy_score(test_labels, predictions_tri_lsvc)           #accuracy\n",
    "\n",
    "predictions_char3_lsvc = lsvc_char3.predict(char3_test_features)         #prediction\n",
    "char3_lsvc = accuracy_score(test_labels, predictions_char3_lsvc)           #accuracy\n",
    "\n",
    "predictions_char4_lsvc = lsvc_char4.predict(char4_test_features)         #prediction\n",
    "char4_lsvc = accuracy_score(test_labels, predictions_char4_lsvc)           #accuracy\n",
    "\n",
    "predictions_char5_lsvc = lsvc_char5.predict(char5_test_features)         #prediction\n",
    "char5_lsvc = accuracy_score(test_labels, predictions_char5_lsvc)           #accuracy\n",
    "\n",
    "predictions_char6_lsvc = lsvc_char6.predict(char6_test_features)         #prediction\n",
    "char6_lsvc = accuracy_score(test_labels, predictions_char6_lsvc)           #accuracy\n",
    "\n",
    "predictions_char7_lsvc = lsvc_char7.predict(char7_test_features)         #prediction\n",
    "char7_lsvc = accuracy_score(test_labels, predictions_char7_lsvc)           #accuracy\n",
    "\n",
    "predictions_char8_lsvc = lsvc_char8.predict(char8_test_features)         #prediction\n",
    "char8_lsvc = accuracy_score(test_labels, predictions_char8_lsvc)           #accuracy\n",
    "\n",
    "predictions_char9_lsvc = lsvc_char9.predict(char9_test_features)         #prediction\n",
    "char9_lsvc = accuracy_score(test_labels, predictions_char9_lsvc)           #accuracy\n",
    "\n",
    "predictions_char10_lsvc = lsvc_char10.predict(char10_test_features)         #prediction\n",
    "char10_lsvc = accuracy_score(test_labels, predictions_char10_lsvc)           #accuracy\n"
   ]
  },
  {
   "cell_type": "code",
   "execution_count": 27,
   "metadata": {},
   "outputs": [],
   "source": [
    "#LOGISTIC REGRESSION\n",
    "\n",
    "predictions_uni_lr = lr_uni.predict(uni_test_features)         #prediction\n",
    "uni_lr = accuracy_score(test_labels, predictions_uni_lr)           #accuracy\n",
    "\n",
    "predictions_bi_lr = lr_bi.predict(bi_test_features)         #prediction\n",
    "bi_lr = accuracy_score(test_labels, predictions_bi_lr)           #accuracy\n",
    "\n",
    "predictions_tri_lr = lr_tri.predict(tri_test_features)         #prediction\n",
    "tri_lr = accuracy_score(test_labels, predictions_tri_lr)           #accuracy\n",
    "\n",
    "predictions_char3_lr = lr_char3.predict(char3_test_features)         #prediction\n",
    "char3_lr = accuracy_score(test_labels, predictions_char3_lr)           #accuracy\n",
    "\n",
    "predictions_char4_lr = lr_char4.predict(char4_test_features)         #prediction\n",
    "char4_lr = accuracy_score(test_labels, predictions_char4_lr)           #accuracy\n",
    "\n",
    "predictions_char5_lr = lr_char5.predict(char5_test_features)         #prediction\n",
    "char5_lr = accuracy_score(test_labels, predictions_char5_lr)           #accuracy\n",
    "\n",
    "predictions_char6_lr = lr_char6.predict(char6_test_features)         #prediction\n",
    "char6_lr = accuracy_score(test_labels, predictions_char6_lr)           #accuracy\n",
    "\n",
    "predictions_char7_lr = lr_char7.predict(char7_test_features)         #prediction\n",
    "char7_lr = accuracy_score(test_labels, predictions_char7_lr)           #accuracy\n",
    "\n",
    "predictions_char8_lr = lr_char8.predict(char8_test_features)         #prediction\n",
    "char8_lr = accuracy_score(test_labels, predictions_char8_lr)           #accuracy\n",
    "\n",
    "predictions_char9_lr = lr_char9.predict(char9_test_features)         #prediction\n",
    "char9_lr = accuracy_score(test_labels, predictions_char9_lr)           #accuracy\n",
    "\n",
    "predictions_char10_lr = lr_char10.predict(char10_test_features)         #prediction\n",
    "char10_lr = accuracy_score(test_labels, predictions_char10_lr)           #accuracy\n"
   ]
  },
  {
   "cell_type": "code",
   "execution_count": 28,
   "metadata": {},
   "outputs": [],
   "source": [
    "features = uni_vector.transform(dataset.Text)\n",
    "target=language\n",
    "#apply random forest on train dataset\n",
    "model=lr_uni.fit(features, target);"
   ]
  },
  {
   "cell_type": "code",
   "execution_count": 42,
   "metadata": {},
   "outputs": [
    {
     "name": "stdout",
     "output_type": "stream",
     "text": [
      "Language :  ['guj']\n"
     ]
    }
   ],
   "source": [
    "comment = 'କେମିତି ଅଛନ୍ତି, କେମିତି ଅଛ?' \n",
    "comment = 'नई भाषाएँ जोड़ी गई हैं, जिनमें असमिया, भोजपुरी, डोगरी, कोंकणी, मैथिली'\n",
    "#comment = 'ஹலோ எப்படி இருக்கிறீர்கள்?'\n",
    "#comment = 'શુ કરો છો? હુ મજામા છુ' \n",
    "comment = 'હું હમણાં મારા પ્રોજેક્ટ સમીક્ષા આપી રહ્યો છુંસમીક્ષા આપી રહ્યો છુંસમીક્ષા આપી રહ્યો છુંસમીક્ષા આપી રહ્યો છું  समिया, भोजपुरी, डोगरी, कोंकणी, मैथिली'\n",
    "\n",
    "user_input= uni_vector.transform([comment])\n",
    "a=user_input.toarray()\n",
    "user_input=pd.DataFrame(a, columns=uni_feature_names)\n",
    "language = model.predict(user_input)  \n",
    "a=[ language[i] for i in [0] ]\n",
    "print(\"Language : \",a)"
   ]
  }
 ],
 "metadata": {
  "kernelspec": {
   "display_name": "Python 3",
   "language": "python",
   "name": "python3"
  },
  "language_info": {
   "codemirror_mode": {
    "name": "ipython",
    "version": 3
   },
   "file_extension": ".py",
   "mimetype": "text/x-python",
   "name": "python",
   "nbconvert_exporter": "python",
   "pygments_lexer": "ipython3",
   "version": "3.9.4"
  },
  "orig_nbformat": 4
 },
 "nbformat": 4,
 "nbformat_minor": 2
}
